{
 "cells": [
  {
   "cell_type": "markdown",
   "metadata": {},
   "source": [
    "## The simpliest usage example of py_boost"
   ]
  },
  {
   "cell_type": "markdown",
   "metadata": {},
   "source": [
    "### Installation (if needed)\n",
    "\n",
    "**Note**: replace cupy-cuda110 with your cuda version!!!"
   ]
  },
  {
   "cell_type": "code",
   "execution_count": 1,
   "metadata": {},
   "outputs": [],
   "source": [
    "# !pip install cupy-cuda110 py-boost"
   ]
  },
  {
   "cell_type": "markdown",
   "metadata": {},
   "source": [
    "### Imports"
   ]
  },
  {
   "cell_type": "code",
   "execution_count": 2,
   "metadata": {},
   "outputs": [],
   "source": [
    "import os\n",
    "# Optional: set the device to run\n",
    "os.environ[\"CUDA_DEVICE_ORDER\"] = \"PCI_BUS_ID\"\n",
    "os.environ[\"CUDA_VISIBLE_DEVICES\"] = \"0\"\n",
    "\n",
    "os.makedirs('../data', exist_ok=True)\n",
    "\n",
    "import joblib\n",
    "from sklearn.datasets import make_regression\n",
    "import numpy as np\n",
    "\n",
    "# simple case - just one class is used\n",
    "from py_boost import GradientBoosting, TLPredictor, TLCompiledPredictor\n",
    "from py_boost.cv import CrossValidation"
   ]
  },
  {
   "cell_type": "markdown",
   "metadata": {},
   "source": [
    "### Generation of dummy regression data"
   ]
  },
  {
   "cell_type": "code",
   "execution_count": 3,
   "metadata": {},
   "outputs": [
    {
     "name": "stdout",
     "output_type": "stream",
     "text": [
      "CPU times: user 2.2 s, sys: 1.75 s, total: 3.95 s\n",
      "Wall time: 840 ms\n"
     ]
    }
   ],
   "source": [
    "%%time\n",
    "X, y = make_regression(150000, 100, n_targets=10, random_state=42)\n",
    "X_test, y_test = X[:50000], y[:50000]\n",
    "X, y = X[-50000:], y[-50000:]"
   ]
  },
  {
   "cell_type": "markdown",
   "metadata": {},
   "source": [
    "### Training a GBDT model\n",
    "\n",
    "The only argument required here is a loss function. It, together with the input target shape, determines the task type. The loss function can be passed as a Loss instance or using a string alias:\n",
    "\n",
    "* ***'mse'*** for the regression/multitask regression\n",
    "* ***'msle'*** for the regression/multitask regression\n",
    "* ***'bce'*** for the binary/multilabel classification\n",
    "* ***'crossentropy'*** for the multiclassification\n",
    "\n",
    "Training is simply done by calling the .fit metod. Possible argumentsare the following:\n",
    "\n",
    "* ***'X'*** \n",
    "* ***'y'*** \n",
    "* ***'sample_weight'*** \n",
    "* ***'eval_sets'***  \n",
    "A validation set is passed as a list of dicts with possible keys ['X', 'y', 'sample_weight']. Note: if multiple valid sets are passed, the best model is selected using the last one.\n",
    "\n",
    "#### The example below illustrates how to train a simple regression task."
   ]
  },
  {
   "cell_type": "code",
   "execution_count": 4,
   "metadata": {},
   "outputs": [
    {
     "name": "stdout",
     "output_type": "stream",
     "text": [
      "[19:14:36] Stdout logging level is INFO.\n",
      "[19:14:36] GDBT train starts. Max iter 100, early stopping rounds 100\n",
      "[19:14:37] Iter 0; Sample 0, rmse = 173.68515729678407; \n",
      "[19:14:37] Iter 10; Sample 0, rmse = 133.23291182753496; \n",
      "[19:14:37] Iter 20; Sample 0, rmse = 107.9095745634706; \n",
      "[19:14:37] Iter 30; Sample 0, rmse = 90.08428101668538; \n",
      "[19:14:37] Iter 40; Sample 0, rmse = 76.43099211547967; \n",
      "[19:14:37] Iter 50; Sample 0, rmse = 65.55844096384095; \n",
      "[19:14:37] Iter 60; Sample 0, rmse = 56.76824308107686; \n",
      "[19:14:37] Iter 70; Sample 0, rmse = 49.56542493520833; \n",
      "[19:14:37] Iter 80; Sample 0, rmse = 43.58938208881945; \n",
      "[19:14:37] Iter 90; Sample 0, rmse = 38.672492217206646; \n",
      "[19:14:37] Iter 99; Sample 0, rmse = 34.997985689171; \n",
      "CPU times: user 7.4 s, sys: 1.4 s, total: 8.79 s\n",
      "Wall time: 6.74 s\n"
     ]
    },
    {
     "data": {
      "text/plain": [
       "<py_boost.gpu.boosting.GradientBoosting at 0x7f4b6470cd30>"
      ]
     },
     "execution_count": 4,
     "metadata": {},
     "output_type": "execute_result"
    }
   ],
   "source": [
    "%%time\n",
    "model = GradientBoosting('mse')\n",
    "\n",
    "model.fit(X, y[:, 0], eval_sets=[{'X': X_test, 'y': y_test[:, 0]},])"
   ]
  },
  {
   "cell_type": "markdown",
   "metadata": {},
   "source": [
    "### Traininig a GBDT model in a multiregression case\n",
    "\n",
    "Each of built-in loss functions has its own default metric, so metric definition is optional. \n",
    "If you need to specify the evaluation metric, you can pass a Metric instance or use a string alias.\n",
    "\n",
    "#### Default metrics:\n",
    "\n",
    "* ***'rmse'*** is the default for the ***'mse'*** loss\n",
    "* ***'rmsle'*** is the default for the  ***'msle'*** loss\n",
    "* ***'bce'*** is the default for the ***'bce'*** loss\n",
    "* ***'crossentropy'*** is the default for the ***'crossentropy'*** loss\n",
    "\n",
    "#### Non-default metrics:\n",
    "\n",
    "* ***'r2'*** for the regression/multitask regression\n",
    "* ***'auc'*** for the binary classification\n",
    "* ***'accuracy'*** for any classification task\n",
    "* ***'precision'*** for any classification task\n",
    "* ***'recall'*** for any classification task\n",
    "* ***'f1'*** for any classification task\n",
    "\n",
    "It is possible to specify other common GBDT hyperparameters as shown below.\n",
    "\n",
    "#### The following example demonstrates how to train a model for a multioutput regression task (no extra definition needed to switch the task to multioutput one, you just need to pass a multidimensional target)."
   ]
  },
  {
   "cell_type": "code",
   "execution_count": 5,
   "metadata": {},
   "outputs": [
    {
     "name": "stdout",
     "output_type": "stream",
     "text": [
      "[19:14:38] Stdout logging level is INFO.\n",
      "[19:14:38] GDBT train starts. Max iter 1000, early stopping rounds 200\n",
      "[19:14:38] Iter 0; Sample 0, R2_score = 0.008394434549009278; \n",
      "[19:14:40] Iter 100; Sample 0, R2_score = 0.5168094390086947; \n",
      "[19:14:42] Iter 200; Sample 0, R2_score = 0.7243032718479143; \n",
      "[19:14:44] Iter 300; Sample 0, R2_score = 0.8327191017153759; \n",
      "[19:14:46] Iter 400; Sample 0, R2_score = 0.8949604280015734; \n",
      "[19:14:48] Iter 500; Sample 0, R2_score = 0.9320386213143411; \n",
      "[19:14:50] Iter 600; Sample 0, R2_score = 0.9546872525005246; \n",
      "[19:14:53] Iter 700; Sample 0, R2_score = 0.968740322258984; \n",
      "[19:14:55] Iter 800; Sample 0, R2_score = 0.9776125682679488; \n",
      "[19:14:57] Iter 900; Sample 0, R2_score = 0.983301943221187; \n",
      "[19:14:59] Iter 999; Sample 0, R2_score = 0.9869841095038282; \n",
      "CPU times: user 20.4 s, sys: 2.82 s, total: 23.2 s\n",
      "Wall time: 21.5 s\n"
     ]
    },
    {
     "data": {
      "text/plain": [
       "<py_boost.gpu.boosting.GradientBoosting at 0x7f4b19167430>"
      ]
     },
     "execution_count": 5,
     "metadata": {},
     "output_type": "execute_result"
    }
   ],
   "source": [
    "%%time\n",
    "model = GradientBoosting('mse', 'r2_score',\n",
    "                         ntrees=1000, lr=.01, verbose=100, es=200, lambda_l2=1,\n",
    "                         subsample=.8, colsample=.8, min_data_in_leaf=10, min_gain_to_split=0, \n",
    "                         max_bin=256, max_depth=6)\n",
    "\n",
    "model.fit(X, y, eval_sets=[{'X': X_test, 'y': y_test},])"
   ]
  },
  {
   "cell_type": "markdown",
   "metadata": {},
   "source": [
    "## Inference\n",
    "\n",
    "#### Prediction can be done via calling the .predict method"
   ]
  },
  {
   "cell_type": "code",
   "execution_count": 6,
   "metadata": {},
   "outputs": [
    {
     "name": "stdout",
     "output_type": "stream",
     "text": [
      "CPU times: user 1.21 s, sys: 561 ms, total: 1.77 s\n",
      "Wall time: 1.78 s\n"
     ]
    },
    {
     "data": {
      "text/plain": [
       "(50000, 10)"
      ]
     },
     "execution_count": 6,
     "metadata": {},
     "output_type": "execute_result"
    }
   ],
   "source": [
    "%%time\n",
    "preds = model.predict(X_test)\n",
    "\n",
    "preds.shape"
   ]
  },
  {
   "cell_type": "code",
   "execution_count": 7,
   "metadata": {},
   "outputs": [
    {
     "data": {
      "text/plain": [
       "array([[-231.57986  , -141.4888   , -276.73294  , ..., -134.38333  ,\n",
       "        -211.01692  , -229.32335  ],\n",
       "       [-118.59609  , -115.6356   ,  -60.311188 , ..., -132.56573  ,\n",
       "        -119.318855 ,  -24.551783 ],\n",
       "       [ -33.319748 ,  -56.017963 ,  146.31969  , ...,   20.21881  ,\n",
       "         -21.19869  , -207.61913  ],\n",
       "       ...,\n",
       "       [ -83.02409  ,  129.98756  ,   72.42775  , ...,  219.36597  ,\n",
       "          28.731098 ,   10.504779 ],\n",
       "       [  -7.9215307,  136.1649   ,  244.74832  , ...,  147.08717  ,\n",
       "         171.48286  ,  204.75542  ],\n",
       "       [ -10.4112625,   38.52069  ,  169.79082  , ...,   95.44684  ,\n",
       "          26.127382 ,    7.7268643]], dtype=float32)"
      ]
     },
     "execution_count": 7,
     "metadata": {},
     "output_type": "execute_result"
    }
   ],
   "source": [
    "preds"
   ]
  },
  {
   "cell_type": "markdown",
   "metadata": {},
   "source": [
    "#### Prediction for certan iterations can be done via calling the .predict_staged method"
   ]
  },
  {
   "cell_type": "code",
   "execution_count": 8,
   "metadata": {},
   "outputs": [
    {
     "name": "stdout",
     "output_type": "stream",
     "text": [
      "CPU times: user 331 ms, sys: 244 ms, total: 575 ms\n",
      "Wall time: 582 ms\n"
     ]
    },
    {
     "data": {
      "text/plain": [
       "(3, 50000, 10)"
      ]
     },
     "execution_count": 8,
     "metadata": {},
     "output_type": "execute_result"
    }
   ],
   "source": [
    "%%time\n",
    "preds = model.predict_staged(X_test, iterations=[100, 300, 500])\n",
    "\n",
    "preds.shape"
   ]
  },
  {
   "cell_type": "markdown",
   "metadata": {},
   "source": [
    "#### Tree leaves indicies prediction for certan iterations can be done via calling the .predict_leaves method"
   ]
  },
  {
   "cell_type": "code",
   "execution_count": 9,
   "metadata": {},
   "outputs": [
    {
     "name": "stdout",
     "output_type": "stream",
     "text": [
      "CPU times: user 18.3 ms, sys: 0 ns, total: 18.3 ms\n",
      "Wall time: 17 ms\n"
     ]
    },
    {
     "data": {
      "text/plain": [
       "(3, 50000, 1)"
      ]
     },
     "execution_count": 9,
     "metadata": {},
     "output_type": "execute_result"
    }
   ],
   "source": [
    "%%time\n",
    "preds = model.predict_leaves(X_test, iterations=[100, 300, 500])\n",
    "\n",
    "preds.shape"
   ]
  },
  {
   "cell_type": "code",
   "execution_count": 10,
   "metadata": {},
   "outputs": [
    {
     "data": {
      "text/plain": [
       "array([[14, 17, 19],\n",
       "       [50, 43, 15],\n",
       "       [32, 43, 22],\n",
       "       ...,\n",
       "       [54, 50, 28],\n",
       "       [30, 43, 19],\n",
       "       [60, 43, 27]], dtype=int32)"
      ]
     },
     "execution_count": 10,
     "metadata": {},
     "output_type": "execute_result"
    }
   ],
   "source": [
    "preds.T[0]"
   ]
  },
  {
   "cell_type": "markdown",
   "metadata": {},
   "source": [
    "#### Feature importances"
   ]
  },
  {
   "cell_type": "code",
   "execution_count": 11,
   "metadata": {},
   "outputs": [
    {
     "data": {
      "text/plain": [
       "array([  46.,   60.,   44.,   40.,   56.,   45., 5621.,   55.,   46.,\n",
       "         53.,   33.,   70.,   43.,   52.,   40., 6120., 5571.,   42.,\n",
       "         39., 5477.,   29.,   41.,   29.,   72.,   45.,   34.,   42.,\n",
       "         56.,   51.,   42.,   43.,   57.,   64.,   41.,   47.,   53.,\n",
       "       5946.,   36.,   36.,   41.,   55.,   51.,   53.,   45.,   39.,\n",
       "         56.,   44.,   33.,   45.,   53.,   36.,   49., 5845.,   40.,\n",
       "         49.,   63.,   46.,   42.,   41.,   46.,   53.,   37.,   43.,\n",
       "         45.,   42.,   44.,   41.,   42.,   35.,   43.,   47.,   42.,\n",
       "         54.,   41.,   41.,   41.,   52.,   42.,   50.,   49.,   56.,\n",
       "         61.,   33.,   53.,   50.,   41., 5478., 3564.,   47., 5884.,\n",
       "         36., 6169.,   52.,   40.,   49.,   41.,   25.,   43.,   47.,\n",
       "         69.], dtype=float32)"
      ]
     },
     "execution_count": 11,
     "metadata": {},
     "output_type": "execute_result"
    }
   ],
   "source": [
    "model.get_feature_importance()"
   ]
  },
  {
   "cell_type": "markdown",
   "metadata": {},
   "source": [
    "#### The trained model can be saved as pickle for inference"
   ]
  },
  {
   "cell_type": "code",
   "execution_count": 12,
   "metadata": {},
   "outputs": [
    {
     "data": {
      "text/plain": [
       "array([[-231.57986  , -141.4888   , -276.73294  , ..., -134.38333  ,\n",
       "        -211.01692  , -229.32335  ],\n",
       "       [-118.59609  , -115.6356   ,  -60.311188 , ..., -132.56573  ,\n",
       "        -119.318855 ,  -24.551783 ],\n",
       "       [ -33.319748 ,  -56.017963 ,  146.31969  , ...,   20.21881  ,\n",
       "         -21.19869  , -207.61913  ],\n",
       "       ...,\n",
       "       [ -83.02409  ,  129.98756  ,   72.42775  , ...,  219.36597  ,\n",
       "          28.731098 ,   10.504779 ],\n",
       "       [  -7.9215307,  136.1649   ,  244.74832  , ...,  147.08717  ,\n",
       "         171.48286  ,  204.75542  ],\n",
       "       [ -10.4112625,   38.52069  ,  169.79082  , ...,   95.44684  ,\n",
       "          26.127382 ,    7.7268643]], dtype=float32)"
      ]
     },
     "execution_count": 12,
     "metadata": {},
     "output_type": "execute_result"
    }
   ],
   "source": [
    "joblib.dump(model, '../data/temp_model.pkl')\n",
    "\n",
    "new_model = joblib.load('../data/temp_model.pkl')\n",
    "new_model.predict(X_test)"
   ]
  },
  {
   "cell_type": "markdown",
   "metadata": {},
   "source": [
    "### CPU Inference via treelite\n",
    "\n",
    "We can also save model for CPU inference via treelite library. For that purposes please use TL wrappers (both for compiled and built-in inference)"
   ]
  },
  {
   "cell_type": "code",
   "execution_count": 13,
   "metadata": {},
   "outputs": [
    {
     "data": {
      "application/vnd.jupyter.widget-view+json": {
       "model_id": "97730bcf91bc4d029f5490a65fafe644",
       "version_major": 2,
       "version_minor": 0
      },
      "text/plain": [
       "  0%|          | 0/1000 [00:00<?, ?it/s]"
      ]
     },
     "metadata": {},
     "output_type": "display_data"
    },
    {
     "name": "stdout",
     "output_type": "stream",
     "text": [
      "CPU times: user 6.93 s, sys: 73.1 ms, total: 7 s\n",
      "Wall time: 6.96 s\n"
     ]
    }
   ],
   "source": [
    "%%time\n",
    "tl_model = TLPredictor(model)"
   ]
  },
  {
   "cell_type": "code",
   "execution_count": 14,
   "metadata": {},
   "outputs": [
    {
     "name": "stdout",
     "output_type": "stream",
     "text": [
      "CPU times: user 3.67 s, sys: 16.3 ms, total: 3.69 s\n",
      "Wall time: 951 ms\n"
     ]
    },
    {
     "data": {
      "text/plain": [
       "array([[-231.57983  , -141.48882  , -276.73294  , ..., -134.3833   ,\n",
       "        -211.01695  , -229.32335  ],\n",
       "       [-118.59609  , -115.635605 ,  -60.311188 , ..., -132.56573  ,\n",
       "        -119.31886  ,  -24.551783 ],\n",
       "       [ -33.319748 ,  -56.017986 ,  146.31972  , ...,   20.218803 ,\n",
       "         -21.19869  , -207.61913  ],\n",
       "       ...,\n",
       "       [ -83.02409  ,  129.98753  ,   72.42776  , ...,  219.36597  ,\n",
       "          28.731113 ,   10.504774 ],\n",
       "       [  -7.921529 ,  136.1649   ,  244.74834  , ...,  147.08717  ,\n",
       "         171.48286  ,  204.75542  ],\n",
       "       [ -10.411263 ,   38.5207   ,  169.79083  , ...,   95.44683  ,\n",
       "          26.127403 ,    7.7268615]], dtype=float32)"
      ]
     },
     "execution_count": 14,
     "metadata": {},
     "output_type": "execute_result"
    }
   ],
   "source": [
    "%%time\n",
    "tl_model.predict(X_test, nthread=4)"
   ]
  },
  {
   "cell_type": "markdown",
   "metadata": {},
   "source": [
    "Treelite model could be saved to folder for using in the next session"
   ]
  },
  {
   "cell_type": "code",
   "execution_count": 15,
   "metadata": {},
   "outputs": [
    {
     "name": "stdout",
     "output_type": "stream",
     "text": [
      "CPU times: user 13.8 ms, sys: 11.4 ms, total: 25.2 ms\n",
      "Wall time: 25.1 ms\n"
     ]
    }
   ],
   "source": [
    "%%time\n",
    "tl_model.dump('../data/tl_dump', rewrite=True)\n",
    "tl_model = TLPredictor.load('../data/tl_dump')"
   ]
  },
  {
   "cell_type": "code",
   "execution_count": 16,
   "metadata": {},
   "outputs": [
    {
     "name": "stdout",
     "output_type": "stream",
     "text": [
      "CPU times: user 3.61 s, sys: 8.37 ms, total: 3.62 s\n",
      "Wall time: 925 ms\n"
     ]
    },
    {
     "data": {
      "text/plain": [
       "array([[-231.57983  , -141.48882  , -276.73294  , ..., -134.3833   ,\n",
       "        -211.01695  , -229.32335  ],\n",
       "       [-118.59609  , -115.635605 ,  -60.311188 , ..., -132.56573  ,\n",
       "        -119.31886  ,  -24.551783 ],\n",
       "       [ -33.319748 ,  -56.017986 ,  146.31972  , ...,   20.218803 ,\n",
       "         -21.19869  , -207.61913  ],\n",
       "       ...,\n",
       "       [ -83.02409  ,  129.98753  ,   72.42776  , ...,  219.36597  ,\n",
       "          28.731113 ,   10.504774 ],\n",
       "       [  -7.921529 ,  136.1649   ,  244.74834  , ...,  147.08717  ,\n",
       "         171.48286  ,  204.75542  ],\n",
       "       [ -10.411263 ,   38.5207   ,  169.79083  , ...,   95.44683  ,\n",
       "          26.127403 ,    7.7268615]], dtype=float32)"
      ]
     },
     "execution_count": 16,
     "metadata": {},
     "output_type": "execute_result"
    }
   ],
   "source": [
    "%%time\n",
    "tl_model.predict(X_test, nthread=4)"
   ]
  },
  {
   "cell_type": "markdown",
   "metadata": {},
   "source": [
    "For better speed up you can compile your model and make inference even more efficient"
   ]
  },
  {
   "cell_type": "code",
   "execution_count": 17,
   "metadata": {},
   "outputs": [
    {
     "name": "stdout",
     "output_type": "stream",
     "text": [
      "[19:15:13] ../src/compiler/ast/split.cc:29: Parallel compilation enabled; member trees will be divided into 28 translation units.\n",
      "CPU times: user 1.36 s, sys: 531 ms, total: 1.89 s\n",
      "Wall time: 1min 24s\n"
     ]
    }
   ],
   "source": [
    "%%time\n",
    "tl_compiled = tl_model.compile('gcc', '../data/templib.so', nthread=4)"
   ]
  },
  {
   "cell_type": "code",
   "execution_count": 18,
   "metadata": {},
   "outputs": [
    {
     "name": "stdout",
     "output_type": "stream",
     "text": [
      "CPU times: user 7.34 s, sys: 320 ms, total: 7.66 s\n",
      "Wall time: 1.91 s\n"
     ]
    },
    {
     "data": {
      "text/plain": [
       "array([[-231.57999  , -141.48885  , -276.73315  , ..., -134.38322  ,\n",
       "        -211.01698  , -229.32344  ],\n",
       "       [-118.59618  , -115.63559  ,  -60.311268 , ..., -132.56573  ,\n",
       "        -119.31883  ,  -24.551754 ],\n",
       "       [ -33.31976  ,  -56.017975 ,  146.31967  , ...,   20.218842 ,\n",
       "         -21.198748 , -207.6191   ],\n",
       "       ...,\n",
       "       [ -83.02403  ,  129.98749  ,   72.42781  , ...,  219.366    ,\n",
       "          28.731108 ,   10.504768 ],\n",
       "       [  -7.9215336,  136.16504  ,  244.74826  , ...,  147.0871   ,\n",
       "         171.48293  ,  204.75563  ],\n",
       "       [ -10.41129  ,   38.520718 ,  169.79054  , ...,   95.4468   ,\n",
       "          26.127438 ,    7.7269163]], dtype=float32)"
      ]
     },
     "execution_count": 18,
     "metadata": {},
     "output_type": "execute_result"
    }
   ],
   "source": [
    "%%time\n",
    "tl_compiled.predict(X_test)"
   ]
  },
  {
   "cell_type": "markdown",
   "metadata": {},
   "source": [
    "Compiled model could also be saved, but note - instanse will save only the metadata. After loading, it expect to find compiled library path stay the same. Otherwise, you can update the library path via .set_libpath method"
   ]
  },
  {
   "cell_type": "code",
   "execution_count": 19,
   "metadata": {},
   "outputs": [
    {
     "name": "stdout",
     "output_type": "stream",
     "text": [
      "CPU times: user 348 ms, sys: 380 ms, total: 729 ms\n",
      "Wall time: 333 ms\n"
     ]
    }
   ],
   "source": [
    "%%time\n",
    "tl_compiled.dump('../data/tl_compiled.pkl')\n",
    "tl_compiled = TLCompiledPredictor.load('../data/tl_compiled.pkl')\n",
    "# optional - if libpath changed or if you want to change nthreads\n",
    "tl_compiled.set_libpath(nthread=1)"
   ]
  },
  {
   "cell_type": "code",
   "execution_count": 20,
   "metadata": {},
   "outputs": [
    {
     "name": "stdout",
     "output_type": "stream",
     "text": [
      "CPU times: user 7.31 s, sys: 90.8 ms, total: 7.4 s\n",
      "Wall time: 7.39 s\n"
     ]
    },
    {
     "data": {
      "text/plain": [
       "array([[-231.57999  , -141.48885  , -276.73315  , ..., -134.38322  ,\n",
       "        -211.01698  , -229.32344  ],\n",
       "       [-118.59618  , -115.63559  ,  -60.311268 , ..., -132.56573  ,\n",
       "        -119.31883  ,  -24.551754 ],\n",
       "       [ -33.31976  ,  -56.017975 ,  146.31967  , ...,   20.218842 ,\n",
       "         -21.198748 , -207.6191   ],\n",
       "       ...,\n",
       "       [ -83.02403  ,  129.98749  ,   72.42781  , ...,  219.366    ,\n",
       "          28.731108 ,   10.504768 ],\n",
       "       [  -7.9215336,  136.16504  ,  244.74826  , ...,  147.0871   ,\n",
       "         171.48293  ,  204.75563  ],\n",
       "       [ -10.41129  ,   38.520718 ,  169.79054  , ...,   95.4468   ,\n",
       "          26.127438 ,    7.7269163]], dtype=float32)"
      ]
     },
     "execution_count": 20,
     "metadata": {},
     "output_type": "execute_result"
    }
   ],
   "source": [
    "%%time\n",
    "tl_compiled.predict(X_test)"
   ]
  },
  {
   "cell_type": "markdown",
   "metadata": {},
   "source": [
    "### Cross Validation\n",
    "\n",
    "Also py_boost supports built in cross validation wrapper that produce out-of-fold prediction"
   ]
  },
  {
   "cell_type": "code",
   "execution_count": 21,
   "metadata": {},
   "outputs": [
    {
     "name": "stdout",
     "output_type": "stream",
     "text": [
      "[19:16:48] Stdout logging level is INFO.\n",
      "[19:16:48] GDBT train starts. Max iter 100, early stopping rounds 100\n",
      "[19:16:48] Iter 0; Sample 0, rmse = 177.54048994833394; \n",
      "[19:16:48] Iter 10; Sample 0, rmse = 146.2775051551839; \n",
      "[19:16:48] Iter 20; Sample 0, rmse = 124.46384581534963; \n",
      "[19:16:48] Iter 30; Sample 0, rmse = 107.81194294424012; \n",
      "[19:16:48] Iter 40; Sample 0, rmse = 94.63195602132788; \n",
      "[19:16:49] Iter 50; Sample 0, rmse = 83.66130474594783; \n",
      "[19:16:49] Iter 60; Sample 0, rmse = 74.46850567155803; \n",
      "[19:16:49] Iter 70; Sample 0, rmse = 66.66850053490023; \n",
      "[19:16:49] Iter 80; Sample 0, rmse = 59.97216254154367; \n",
      "[19:16:50] Iter 90; Sample 0, rmse = 54.190201828155374; \n",
      "[19:16:50] Iter 99; Sample 0, rmse = 49.70896192258387; \n",
      "[19:16:50] Stdout logging level is INFO.\n",
      "[19:16:50] GDBT train starts. Max iter 100, early stopping rounds 100\n",
      "[19:16:50] Iter 0; Sample 0, rmse = 174.53567903144224; \n",
      "[19:16:50] Iter 10; Sample 0, rmse = 143.51674627960324; \n",
      "[19:16:50] Iter 20; Sample 0, rmse = 121.79501341766593; \n",
      "[19:16:50] Iter 30; Sample 0, rmse = 105.38682314139258; \n",
      "[19:16:51] Iter 40; Sample 0, rmse = 92.164664361271; \n",
      "[19:16:51] Iter 50; Sample 0, rmse = 81.37448955726363; \n",
      "[19:16:51] Iter 60; Sample 0, rmse = 72.27147594670411; \n",
      "[19:16:51] Iter 70; Sample 0, rmse = 64.47164933406174; \n",
      "[19:16:52] Iter 80; Sample 0, rmse = 57.87332923428677; \n",
      "[19:16:52] Iter 90; Sample 0, rmse = 52.203080047347264; \n",
      "[19:16:52] Iter 99; Sample 0, rmse = 47.81940339516505; \n",
      "[19:16:52] Stdout logging level is INFO.\n",
      "[19:16:52] GDBT train starts. Max iter 100, early stopping rounds 100\n",
      "[19:16:52] Iter 0; Sample 0, rmse = 176.20630405602344; \n",
      "[19:16:52] Iter 10; Sample 0, rmse = 144.90902081328568; \n",
      "[19:16:52] Iter 20; Sample 0, rmse = 122.85208544869133; \n",
      "[19:16:53] Iter 30; Sample 0, rmse = 106.20013312867013; \n",
      "[19:16:53] Iter 40; Sample 0, rmse = 92.9050990396041; \n",
      "[19:16:53] Iter 50; Sample 0, rmse = 82.09568350410073; \n",
      "[19:16:53] Iter 60; Sample 0, rmse = 72.92860228076309; \n",
      "[19:16:54] Iter 70; Sample 0, rmse = 65.1448251293722; \n",
      "[19:16:54] Iter 80; Sample 0, rmse = 58.517038023948196; \n",
      "[19:16:54] Iter 90; Sample 0, rmse = 52.78942021485525; \n",
      "[19:16:54] Iter 99; Sample 0, rmse = 48.28953389661409; \n",
      "[19:16:54] Stdout logging level is INFO.\n",
      "[19:16:54] GDBT train starts. Max iter 100, early stopping rounds 100\n",
      "[19:16:54] Iter 0; Sample 0, rmse = 176.73879831676282; \n",
      "[19:16:54] Iter 10; Sample 0, rmse = 145.49035844578512; \n",
      "[19:16:55] Iter 20; Sample 0, rmse = 123.52201179011156; \n",
      "[19:16:55] Iter 30; Sample 0, rmse = 106.93534587102177; \n",
      "[19:16:55] Iter 40; Sample 0, rmse = 93.81508552557293; \n",
      "[19:16:55] Iter 50; Sample 0, rmse = 82.9655486486432; \n",
      "[19:16:56] Iter 60; Sample 0, rmse = 73.7437624887591; \n",
      "[19:16:56] Iter 70; Sample 0, rmse = 65.86783720089122; \n",
      "[19:16:56] Iter 80; Sample 0, rmse = 59.16030677031961; \n",
      "[19:16:56] Iter 90; Sample 0, rmse = 53.4225885440195; \n",
      "[19:16:56] Iter 99; Sample 0, rmse = 48.962420607644916; \n",
      "[19:16:56] Stdout logging level is INFO.\n",
      "[19:16:56] GDBT train starts. Max iter 100, early stopping rounds 100\n",
      "[19:16:57] Iter 0; Sample 0, rmse = 175.09798096153105; \n",
      "[19:16:57] Iter 10; Sample 0, rmse = 144.03172736898617; \n",
      "[19:16:57] Iter 20; Sample 0, rmse = 122.25992081930902; \n",
      "[19:16:57] Iter 30; Sample 0, rmse = 105.80915426757912; \n",
      "[19:16:57] Iter 40; Sample 0, rmse = 92.79217530675575; \n",
      "[19:16:58] Iter 50; Sample 0, rmse = 81.93546101122618; \n",
      "[19:16:58] Iter 60; Sample 0, rmse = 72.80614087418543; \n",
      "[19:16:58] Iter 70; Sample 0, rmse = 65.07920066822456; \n",
      "[19:16:58] Iter 80; Sample 0, rmse = 58.42326116459996; \n",
      "[19:16:58] Iter 90; Sample 0, rmse = 52.80308058856415; \n",
      "[19:16:59] Iter 99; Sample 0, rmse = 48.36450836651719; \n",
      "CPU times: user 11.7 s, sys: 1.68 s, total: 13.4 s\n",
      "Wall time: 12.1 s\n"
     ]
    },
    {
     "data": {
      "text/plain": [
       "47.34613200723712"
      ]
     },
     "execution_count": 21,
     "metadata": {},
     "output_type": "execute_result"
    }
   ],
   "source": [
    "%%time\n",
    "model = GradientBoosting('mse')\n",
    "cv = CrossValidation(model)\n",
    "\n",
    "oof_pred = cv.fit_predict(X, y, cv=5)\n",
    "\n",
    "pred = cv.predict(X_test)\n",
    "((pred - y_test) ** 2).mean() ** .5"
   ]
  }
 ],
 "metadata": {
  "kernelspec": {
   "display_name": "rapids-22.06",
   "language": "python",
   "name": "rapids-22.06"
  },
  "language_info": {
   "codemirror_mode": {
    "name": "ipython",
    "version": 3
   },
   "file_extension": ".py",
   "mimetype": "text/x-python",
   "name": "python",
   "nbconvert_exporter": "python",
   "pygments_lexer": "ipython3",
   "version": "3.9.13"
  }
 },
 "nbformat": 4,
 "nbformat_minor": 2
}
