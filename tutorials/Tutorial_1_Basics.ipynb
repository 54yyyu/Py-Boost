{
 "cells": [
  {
   "cell_type": "markdown",
   "metadata": {},
   "source": [
    "## The simpliest usage example of py_boost"
   ]
  },
  {
   "cell_type": "markdown",
   "metadata": {},
   "source": [
    "### Installation (if needed)\n",
    "\n",
    "**Note**: replace cupy-cuda110 with your cuda version!!!"
   ]
  },
  {
   "cell_type": "code",
   "execution_count": 1,
   "metadata": {},
   "outputs": [],
   "source": [
    "# !pip install cupy-cuda110 py-boost"
   ]
  },
  {
   "cell_type": "markdown",
   "metadata": {},
   "source": [
    "### Imports"
   ]
  },
  {
   "cell_type": "code",
   "execution_count": 2,
   "metadata": {},
   "outputs": [],
   "source": [
    "import os\n",
    "# Optional: set the device to run\n",
    "os.environ[\"CUDA_DEVICE_ORDER\"] = \"PCI_BUS_ID\"\n",
    "os.environ[\"CUDA_VISIBLE_DEVICES\"] = \"0\"\n",
    "\n",
    "os.makedirs('../data', exist_ok=True)\n",
    "\n",
    "import joblib\n",
    "from sklearn.datasets import make_regression\n",
    "import numpy as np\n",
    "\n",
    "# simple case - just one class is used\n",
    "from py_boost import GradientBoosting, TLPredictor, TLCompiledPredictor\n",
    "from py_boost.cv import CrossValidation"
   ]
  },
  {
   "cell_type": "markdown",
   "metadata": {},
   "source": [
    "### Generation of dummy regression data"
   ]
  },
  {
   "cell_type": "code",
   "execution_count": 3,
   "metadata": {},
   "outputs": [
    {
     "name": "stdout",
     "output_type": "stream",
     "text": [
      "CPU times: user 3.2 s, sys: 370 ms, total: 3.57 s\n",
      "Wall time: 866 ms\n"
     ]
    }
   ],
   "source": [
    "%%time\n",
    "X, y = make_regression(150000, 100, n_targets=10, random_state=42)\n",
    "X_test, y_test = X[:50000], y[:50000]\n",
    "X, y = X[-50000:], y[-50000:]"
   ]
  },
  {
   "cell_type": "markdown",
   "metadata": {},
   "source": [
    "### Training a GBDT model\n",
    "\n",
    "The only argument required here is a loss function. It, together with the input target shape, determines the task type. The loss function can be passed as a Loss instance or using a string alias:\n",
    "\n",
    "* ***'mse'*** for the regression/multitask regression\n",
    "* ***'msle'*** for the regression/multitask regression\n",
    "* ***'bce'*** for the binary/multilabel classification\n",
    "* ***'crossentropy'*** for the multiclassification\n",
    "\n",
    "Training is simply done by calling the .fit metod. Possible argumentsare the following:\n",
    "\n",
    "* ***'X'*** \n",
    "* ***'y'*** \n",
    "* ***'sample_weight'*** \n",
    "* ***'eval_sets'***  \n",
    "A validation set is passed as a list of dicts with possible keys ['X', 'y', 'sample_weight']. Note: if multiple valid sets are passed, the best model is selected using the last one.\n",
    "\n",
    "#### The example below illustrates how to train a simple regression task."
   ]
  },
  {
   "cell_type": "code",
   "execution_count": 4,
   "metadata": {},
   "outputs": [
    {
     "name": "stdout",
     "output_type": "stream",
     "text": [
      "[16:08:04] Stdout logging level is INFO.\n",
      "[16:08:04] GDBT train starts. Max iter 100, early stopping rounds 100\n",
      "[16:08:05] Iter 0; Sample 0, rmse = 173.68515691977944; \n",
      "[16:08:05] Iter 10; Sample 0, rmse = 133.23295011038803; \n",
      "[16:08:05] Iter 20; Sample 0, rmse = 107.90963333026548; \n",
      "[16:08:05] Iter 30; Sample 0, rmse = 90.08368631256529; \n",
      "[16:08:05] Iter 40; Sample 0, rmse = 76.43011229452102; \n",
      "[16:08:05] Iter 50; Sample 0, rmse = 65.57255537063156; \n",
      "[16:08:05] Iter 60; Sample 0, rmse = 56.77176734590884; \n",
      "[16:08:05] Iter 70; Sample 0, rmse = 49.60711914100726; \n",
      "[16:08:06] Iter 80; Sample 0, rmse = 43.62769085132933; \n",
      "[16:08:06] Iter 90; Sample 0, rmse = 38.6875278370893; \n",
      "[16:08:06] Iter 99; Sample 0, rmse = 35.01089441400534; \n",
      "CPU times: user 6.83 s, sys: 274 ms, total: 7.1 s\n",
      "Wall time: 4.96 s\n"
     ]
    },
    {
     "data": {
      "text/plain": [
       "<py_boost.gpu.boosting.GradientBoosting at 0x7f0e81c43400>"
      ]
     },
     "execution_count": 4,
     "metadata": {},
     "output_type": "execute_result"
    }
   ],
   "source": [
    "%%time\n",
    "model = GradientBoosting('mse')\n",
    "\n",
    "model.fit(X, y[:, 0], eval_sets=[{'X': X_test, 'y': y_test[:, 0]},])"
   ]
  },
  {
   "cell_type": "markdown",
   "metadata": {},
   "source": [
    "### Traininig a GBDT model in a multiregression case\n",
    "\n",
    "Each of built-in loss functions has its own default metric, so metric definition is optional. \n",
    "If you need to specify the evaluation metric, you can pass a Metric instance or use a string alias.\n",
    "\n",
    "#### Default metrics:\n",
    "\n",
    "* ***'rmse'*** is the default for the ***'mse'*** loss\n",
    "* ***'rmsle'*** is the default for the  ***'msle'*** loss\n",
    "* ***'bce'*** is the default for the ***'bce'*** loss\n",
    "* ***'crossentropy'*** is the default for the ***'crossentropy'*** loss\n",
    "\n",
    "#### Non-default metrics:\n",
    "\n",
    "* ***'r2'*** for the regression/multitask regression\n",
    "* ***'auc'*** for the binary classification\n",
    "* ***'accuracy'*** for any classification task\n",
    "* ***'precision'*** for any classification task\n",
    "* ***'recall'*** for any classification task\n",
    "* ***'f1'*** for any classification task\n",
    "\n",
    "It is possible to specify other common GBDT hyperparameters as shown below.\n",
    "\n",
    "#### The following example demonstrates how to train a model for a multioutput regression task (no extra definition needed to switch the task to multioutput one, you just need to pass a multidimensional target)."
   ]
  },
  {
   "cell_type": "code",
   "execution_count": 5,
   "metadata": {},
   "outputs": [
    {
     "name": "stdout",
     "output_type": "stream",
     "text": [
      "[16:08:06] Stdout logging level is INFO.\n",
      "[16:08:06] GDBT train starts. Max iter 1000, early stopping rounds 200\n",
      "[16:08:06] Iter 0; Sample 0, R2_score = 0.008394434570827336; \n",
      "[16:08:08] Iter 100; Sample 0, R2_score = 0.5167311821304741; \n",
      "[16:08:10] Iter 200; Sample 0, R2_score = 0.724112018222454; \n",
      "[16:08:12] Iter 300; Sample 0, R2_score = 0.8326867808861295; \n",
      "[16:08:14] Iter 400; Sample 0, R2_score = 0.894878283490004; \n",
      "[16:08:16] Iter 500; Sample 0, R2_score = 0.9320441058906963; \n",
      "[16:08:18] Iter 600; Sample 0, R2_score = 0.9546838153329367; \n",
      "[16:08:20] Iter 700; Sample 0, R2_score = 0.9687535106845113; \n",
      "[16:08:22] Iter 800; Sample 0, R2_score = 0.9776117268479518; \n",
      "[16:08:24] Iter 900; Sample 0, R2_score = 0.9832966630583361; \n",
      "[16:08:26] Iter 999; Sample 0, R2_score = 0.9869894787290912; \n",
      "CPU times: user 22.2 s, sys: 213 ms, total: 22.4 s\n",
      "Wall time: 20.2 s\n"
     ]
    },
    {
     "data": {
      "text/plain": [
       "<py_boost.gpu.boosting.GradientBoosting at 0x7f0f634abb20>"
      ]
     },
     "execution_count": 5,
     "metadata": {},
     "output_type": "execute_result"
    }
   ],
   "source": [
    "%%time\n",
    "model = GradientBoosting('mse', 'r2_score',\n",
    "                         ntrees=1000, lr=.01, verbose=100, es=200, lambda_l2=1,\n",
    "                         subsample=.8, colsample=.8, min_data_in_leaf=10, min_gain_to_split=0, \n",
    "                         max_bin=256, max_depth=6)\n",
    "\n",
    "model.fit(X, y, eval_sets=[{'X': X_test, 'y': y_test},])"
   ]
  },
  {
   "cell_type": "markdown",
   "metadata": {},
   "source": [
    "## Inference\n",
    "\n",
    "#### Prediction can be done via calling the .predict method"
   ]
  },
  {
   "cell_type": "code",
   "execution_count": 6,
   "metadata": {},
   "outputs": [
    {
     "name": "stdout",
     "output_type": "stream",
     "text": [
      "CPU times: user 2.21 s, sys: 846 ms, total: 3.05 s\n",
      "Wall time: 3.07 s\n"
     ]
    },
    {
     "data": {
      "text/plain": [
       "(50000, 10)"
      ]
     },
     "execution_count": 6,
     "metadata": {},
     "output_type": "execute_result"
    }
   ],
   "source": [
    "%%time\n",
    "preds = model.predict(X_test)\n",
    "\n",
    "preds.shape"
   ]
  },
  {
   "cell_type": "code",
   "execution_count": 7,
   "metadata": {},
   "outputs": [
    {
     "data": {
      "text/plain": [
       "array([[-223.87396  , -135.50194  , -265.8046   , ..., -129.46918  ,\n",
       "        -205.92981  , -221.22426  ],\n",
       "       [-105.44449  , -102.702545 ,  -46.391914 , ..., -119.10743  ,\n",
       "        -103.06447  ,   -8.659139 ],\n",
       "       [ -44.662792 ,  -64.49487  ,  139.20688  , ...,   14.63566  ,\n",
       "         -27.567158 , -215.73244  ],\n",
       "       ...,\n",
       "       [ -88.6747   ,  126.8604   ,   77.65632  , ...,  221.90102  ,\n",
       "          27.670258 ,    5.0210505],\n",
       "       [  -5.025809 ,  140.92496  ,  243.93556  , ...,  150.28708  ,\n",
       "         173.07477  ,  206.62967  ],\n",
       "       [  -9.335781 ,   37.36901  ,  169.7846   , ...,   94.27019  ,\n",
       "          27.018436 ,    8.480061 ]], dtype=float32)"
      ]
     },
     "execution_count": 7,
     "metadata": {},
     "output_type": "execute_result"
    }
   ],
   "source": [
    "preds"
   ]
  },
  {
   "cell_type": "markdown",
   "metadata": {},
   "source": [
    "#### Prediction for certan iterations can be done via calling the .predict_staged method"
   ]
  },
  {
   "cell_type": "code",
   "execution_count": 8,
   "metadata": {},
   "outputs": [
    {
     "name": "stdout",
     "output_type": "stream",
     "text": [
      "CPU times: user 33 ms, sys: 8.07 ms, total: 41.1 ms\n",
      "Wall time: 39.3 ms\n"
     ]
    },
    {
     "data": {
      "text/plain": [
       "(3, 50000, 10)"
      ]
     },
     "execution_count": 8,
     "metadata": {},
     "output_type": "execute_result"
    }
   ],
   "source": [
    "%%time\n",
    "preds = model.predict_staged(X_test, iterations=[100, 300, 500])\n",
    "\n",
    "preds.shape"
   ]
  },
  {
   "cell_type": "markdown",
   "metadata": {},
   "source": [
    "#### Tree leaves indicies prediction for certan iterations can be done via calling the .predict_leaves method"
   ]
  },
  {
   "cell_type": "code",
   "execution_count": 9,
   "metadata": {},
   "outputs": [
    {
     "name": "stdout",
     "output_type": "stream",
     "text": [
      "CPU times: user 17.6 ms, sys: 307 µs, total: 17.9 ms\n",
      "Wall time: 14 ms\n"
     ]
    },
    {
     "data": {
      "text/plain": [
       "(3, 50000, 1)"
      ]
     },
     "execution_count": 9,
     "metadata": {},
     "output_type": "execute_result"
    }
   ],
   "source": [
    "%%time\n",
    "preds = model.predict_leaves(X_test, iterations=[100, 300, 500])\n",
    "\n",
    "preds.shape"
   ]
  },
  {
   "cell_type": "code",
   "execution_count": 10,
   "metadata": {},
   "outputs": [
    {
     "data": {
      "text/plain": [
       "array([[10, 41, 10],\n",
       "       [51, 41, 28],\n",
       "       [32, 41, 54],\n",
       "       ...,\n",
       "       [54, 48, 10],\n",
       "       [27, 41, 20],\n",
       "       [60, 41, 28]], dtype=int32)"
      ]
     },
     "execution_count": 10,
     "metadata": {},
     "output_type": "execute_result"
    }
   ],
   "source": [
    "preds.T[0]"
   ]
  },
  {
   "cell_type": "markdown",
   "metadata": {},
   "source": [
    "#### Feature importances"
   ]
  },
  {
   "cell_type": "code",
   "execution_count": 11,
   "metadata": {},
   "outputs": [
    {
     "data": {
      "text/plain": [
       "array([  45.,   48.,   36.,   43.,   55.,   44., 5515.,   47.,   33.,\n",
       "         70.,   35.,   46.,   45.,   44.,   36., 5894., 5514.,   47.,\n",
       "         35., 5529.,   37.,   38.,   42.,   69.,   40.,   31.,   60.,\n",
       "         62.,   40.,   46.,   50.,   59.,   61.,   57.,   38.,   42.,\n",
       "       5865.,   40.,   48.,   37.,   56.,   35.,   51.,   55.,   38.,\n",
       "         44.,   50.,   59.,   53.,   40.,   42.,   50., 5952.,   48.,\n",
       "         56.,   71.,   50.,   35.,   50.,   41.,   49.,   35.,   35.,\n",
       "         46.,   49.,   39.,   38.,   51.,   34.,   63.,   48.,   46.,\n",
       "         44.,   31.,   46.,   56.,   47.,   32.,   44.,   45.,   58.,\n",
       "         37.,   30.,   55.,   51.,   33., 5589., 3564.,   41., 5851.,\n",
       "         46., 6212.,   54.,   39.,   52.,   51.,   35.,   49.,   42.,\n",
       "         52.], dtype=float32)"
      ]
     },
     "execution_count": 11,
     "metadata": {},
     "output_type": "execute_result"
    }
   ],
   "source": [
    "model.get_feature_importance()"
   ]
  },
  {
   "cell_type": "markdown",
   "metadata": {},
   "source": [
    "#### The trained model can be saved as pickle for inference\n",
    "\n"
   ]
  },
  {
   "cell_type": "code",
   "execution_count": 12,
   "metadata": {},
   "outputs": [
    {
     "data": {
      "text/plain": [
       "array([[-223.87396  , -135.50194  , -265.8046   , ..., -129.46918  ,\n",
       "        -205.92981  , -221.22426  ],\n",
       "       [-105.44449  , -102.702545 ,  -46.391914 , ..., -119.10743  ,\n",
       "        -103.06447  ,   -8.659139 ],\n",
       "       [ -44.662792 ,  -64.49487  ,  139.20688  , ...,   14.63566  ,\n",
       "         -27.567158 , -215.73244  ],\n",
       "       ...,\n",
       "       [ -88.6747   ,  126.8604   ,   77.65632  , ...,  221.90102  ,\n",
       "          27.670258 ,    5.0210505],\n",
       "       [  -5.025809 ,  140.92496  ,  243.93556  , ...,  150.28708  ,\n",
       "         173.07477  ,  206.62967  ],\n",
       "       [  -9.335781 ,   37.36901  ,  169.7846   , ...,   94.27019  ,\n",
       "          27.018436 ,    8.480061 ]], dtype=float32)"
      ]
     },
     "execution_count": 12,
     "metadata": {},
     "output_type": "execute_result"
    }
   ],
   "source": [
    "joblib.dump(model, '../data/temp_model.pkl')\n",
    "\n",
    "new_model = joblib.load('../data/temp_model.pkl')\n",
    "new_model.predict(X_test)"
   ]
  },
  {
   "cell_type": "markdown",
   "metadata": {},
   "source": [
    "#### Alternative and more stable way to serialize is to dump as json\n",
    "\n",
    "***Note*** : It is important to load json to the GradientBoosting instance with the same loss function! Loss function is important for inference since it contains the type of postprocessing function (for example sigmoid for bce or softmax for crossentropy). For the details, please check [Tutorial_3_Custom_features](https://github.com/sb-ai-lab/Py-Boost/blob/master/tutorials/Tutorial_3_Custom_features.ipynb)"
   ]
  },
  {
   "cell_type": "code",
   "execution_count": 13,
   "metadata": {},
   "outputs": [
    {
     "name": "stderr",
     "output_type": "stream",
     "text": [
      "100%|██████████| 1000/1000 [00:00<00:00, 1646.10it/s]\n"
     ]
    },
    {
     "data": {
      "text/plain": [
       "array([[-223.87396  , -135.50194  , -265.8046   , ..., -129.46918  ,\n",
       "        -205.92981  , -221.22426  ],\n",
       "       [-105.44449  , -102.702545 ,  -46.391914 , ..., -119.10743  ,\n",
       "        -103.06447  ,   -8.659139 ],\n",
       "       [ -44.662792 ,  -64.49487  ,  139.20688  , ...,   14.63566  ,\n",
       "         -27.567158 , -215.73244  ],\n",
       "       ...,\n",
       "       [ -88.6747   ,  126.8604   ,   77.65632  , ...,  221.90102  ,\n",
       "          27.670258 ,    5.0210505],\n",
       "       [  -5.025809 ,  140.92496  ,  243.93556  , ...,  150.28708  ,\n",
       "         173.07477  ,  206.62967  ],\n",
       "       [  -9.335781 ,   37.36901  ,  169.7846   , ...,   94.27019  ,\n",
       "          27.018436 ,    8.480061 ]], dtype=float32)"
      ]
     },
     "execution_count": 13,
     "metadata": {},
     "output_type": "execute_result"
    }
   ],
   "source": [
    "model.dump('../data/temp_model.pb')\n",
    "\n",
    "# restore model\n",
    "new_model = GradientBoosting('mse').load('../data/temp_model.pb')\n",
    "new_model.predict(X_test)"
   ]
  },
  {
   "cell_type": "markdown",
   "metadata": {},
   "source": [
    "### CPU Inference via treelite\n",
    "\n",
    "We can also save model for CPU inference via treelite library. For that purposes please use TL wrappers (both for compiled and built-in inference)"
   ]
  },
  {
   "cell_type": "code",
   "execution_count": 14,
   "metadata": {},
   "outputs": [
    {
     "name": "stderr",
     "output_type": "stream",
     "text": [
      "100%|██████████| 1000/1000 [00:05<00:00, 180.50it/s]\n"
     ]
    },
    {
     "name": "stdout",
     "output_type": "stream",
     "text": [
      "CPU times: user 5.53 s, sys: 124 ms, total: 5.65 s\n",
      "Wall time: 5.58 s\n"
     ]
    }
   ],
   "source": [
    "%%time\n",
    "tl_model = TLPredictor(model)"
   ]
  },
  {
   "cell_type": "code",
   "execution_count": 15,
   "metadata": {},
   "outputs": [
    {
     "name": "stderr",
     "output_type": "stream",
     "text": [
      "/home/jovyan/finalize_pb/rapids-24.04/lib/python3.10/site-packages/treelite/gtil/gtil.py:160: UserWarning: GTIL currently only supports float32 type; data will be converted to float32 and information might be lost.\n",
      "  warnings.warn(\n"
     ]
    },
    {
     "name": "stdout",
     "output_type": "stream",
     "text": [
      "CPU times: user 3.36 s, sys: 23.4 ms, total: 3.38 s\n",
      "Wall time: 900 ms\n"
     ]
    },
    {
     "data": {
      "text/plain": [
       "array([[-223.87396  , -135.50195  , -265.8046   , ..., -129.46918  ,\n",
       "        -205.92981  , -221.22426  ],\n",
       "       [-105.44449  , -102.70254  ,  -46.39192  , ..., -119.10744  ,\n",
       "        -103.06447  ,   -8.659145 ],\n",
       "       [ -44.66279  ,  -64.494865 ,  139.2069   , ...,   14.635647 ,\n",
       "         -27.567156 , -215.73244  ],\n",
       "       ...,\n",
       "       [ -88.67468  ,  126.860374 ,   77.65633  , ...,  221.90102  ,\n",
       "          27.670267 ,    5.0210514],\n",
       "       [  -5.025807 ,  140.92497  ,  243.93558  , ...,  150.28708  ,\n",
       "         173.07477  ,  206.62967  ],\n",
       "       [  -9.335782 ,   37.36902  ,  169.7846   , ...,   94.27018  ,\n",
       "          27.018427 ,    8.480059 ]], dtype=float32)"
      ]
     },
     "execution_count": 15,
     "metadata": {},
     "output_type": "execute_result"
    }
   ],
   "source": [
    "%%time\n",
    "tl_model.predict(X_test, nthread=4)"
   ]
  },
  {
   "cell_type": "markdown",
   "metadata": {},
   "source": [
    "Treelite model could be saved to folder for using in the next session"
   ]
  },
  {
   "cell_type": "code",
   "execution_count": 16,
   "metadata": {},
   "outputs": [
    {
     "name": "stdout",
     "output_type": "stream",
     "text": [
      "CPU times: user 31.7 ms, sys: 31.6 ms, total: 63.3 ms\n",
      "Wall time: 63.7 ms\n"
     ]
    }
   ],
   "source": [
    "%%time\n",
    "tl_model.dump('../data/tl_dump', rewrite=True)\n",
    "tl_model = TLPredictor.load('../data/tl_dump')"
   ]
  },
  {
   "cell_type": "code",
   "execution_count": 17,
   "metadata": {},
   "outputs": [
    {
     "name": "stdout",
     "output_type": "stream",
     "text": [
      "CPU times: user 3.35 s, sys: 7.27 ms, total: 3.36 s\n",
      "Wall time: 856 ms\n"
     ]
    },
    {
     "data": {
      "text/plain": [
       "array([[-223.87396  , -135.50195  , -265.8046   , ..., -129.46918  ,\n",
       "        -205.92981  , -221.22426  ],\n",
       "       [-105.44449  , -102.70254  ,  -46.39192  , ..., -119.10744  ,\n",
       "        -103.06447  ,   -8.659145 ],\n",
       "       [ -44.66279  ,  -64.494865 ,  139.2069   , ...,   14.635647 ,\n",
       "         -27.567156 , -215.73244  ],\n",
       "       ...,\n",
       "       [ -88.67468  ,  126.860374 ,   77.65633  , ...,  221.90102  ,\n",
       "          27.670267 ,    5.0210514],\n",
       "       [  -5.025807 ,  140.92497  ,  243.93558  , ...,  150.28708  ,\n",
       "         173.07477  ,  206.62967  ],\n",
       "       [  -9.335782 ,   37.36902  ,  169.7846   , ...,   94.27018  ,\n",
       "          27.018427 ,    8.480059 ]], dtype=float32)"
      ]
     },
     "execution_count": 17,
     "metadata": {},
     "output_type": "execute_result"
    }
   ],
   "source": [
    "%%time\n",
    "tl_model.predict(X_test, nthread=4)"
   ]
  },
  {
   "cell_type": "markdown",
   "metadata": {},
   "source": [
    "For better speed up you can compile your model and make inference even more efficient"
   ]
  },
  {
   "cell_type": "code",
   "execution_count": 18,
   "metadata": {},
   "outputs": [
    {
     "name": "stdout",
     "output_type": "stream",
     "text": [
      "[16:08:40] ../src/compiler/ast/split.cc:29: Parallel compilation enabled; member trees will be divided into 56 translation units.\n"
     ]
    },
    {
     "name": "stderr",
     "output_type": "stream",
     "text": [
      "/home/jovyan/finalize_pb/rapids-24.04/lib/python3.10/site-packages/treelite/warn.py:6: UserWarning: Method treelite.Model.export_lib() is deprecated and scheduled for removal in Treelite 4.0. Please use TL2cgen instead. Consult the migration guide at https://tl2cgen.readthedocs.io/en/latest/treelite-migration.html.\n",
      "  warnings.warn(\n",
      "/home/jovyan/finalize_pb/rapids-24.04/lib/python3.10/site-packages/treelite/warn.py:6: UserWarning: Method treelite.Model.compile() is deprecated and scheduled for removal in Treelite 4.0. Please use TL2cgen instead. Consult the migration guide at https://tl2cgen.readthedocs.io/en/latest/treelite-migration.html.\n",
      "  warnings.warn(\n",
      "/home/jovyan/finalize_pb/rapids-24.04/lib/python3.10/site-packages/treelite/warn.py:6: UserWarning: Function treelite.create_shared() is deprecated and scheduled for removal in Treelite 4.0. Please use TL2cgen instead. Consult the migration guide at https://tl2cgen.readthedocs.io/en/latest/treelite-migration.html.\n",
      "  warnings.warn(\n"
     ]
    },
    {
     "name": "stdout",
     "output_type": "stream",
     "text": [
      "CPU times: user 1.29 s, sys: 90.3 ms, total: 1.38 s\n",
      "Wall time: 56.2 s\n"
     ]
    },
    {
     "name": "stderr",
     "output_type": "stream",
     "text": [
      "/home/jovyan/finalize_pb/rapids-24.04/lib/python3.10/site-packages/treelite_runtime/warn.py:6: UserWarning: class treelite_runtime.Predictor is deprecated and scheduled for removal in Treelite 4.0. Please use TL2cgen instead. Consult the migration guide at https://tl2cgen.readthedocs.io/en/latest/treelite-migration.html.\n",
      "  warnings.warn(\n"
     ]
    }
   ],
   "source": [
    "%%time\n",
    "tl_compiled = tl_model.compile('gcc', '../data/templib.so', nthread=4)"
   ]
  },
  {
   "cell_type": "code",
   "execution_count": 19,
   "metadata": {},
   "outputs": [
    {
     "name": "stderr",
     "output_type": "stream",
     "text": [
      "/home/jovyan/finalize_pb/rapids-24.04/lib/python3.10/site-packages/treelite_runtime/warn.py:6: UserWarning: class treelite_runtime.DMatrix is deprecated and scheduled for removal in Treelite 4.0. Please use TL2cgen instead. Consult the migration guide at https://tl2cgen.readthedocs.io/en/latest/treelite-migration.html.\n",
      "  warnings.warn(\n"
     ]
    },
    {
     "name": "stdout",
     "output_type": "stream",
     "text": [
      "CPU times: user 6.62 s, sys: 588 ms, total: 7.21 s\n",
      "Wall time: 1.83 s\n"
     ]
    },
    {
     "data": {
      "text/plain": [
       "array([[-223.87384  , -135.502    , -265.80447  , ..., -129.46922  ,\n",
       "        -205.92975  , -221.22443  ],\n",
       "       [-105.44452  , -102.70257  ,  -46.391895 , ..., -119.1074   ,\n",
       "        -103.06445  ,   -8.659153 ],\n",
       "       [ -44.662804 ,  -64.4949   ,  139.20688  , ...,   14.63566  ,\n",
       "         -27.567184 , -215.73254  ],\n",
       "       ...,\n",
       "       [ -88.67466  ,  126.86047  ,   77.65633  , ...,  221.90108  ,\n",
       "          27.670267 ,    5.021043 ],\n",
       "       [  -5.0258074,  140.92477  ,  243.93553  , ...,  150.28697  ,\n",
       "         173.0748   ,  206.62964  ],\n",
       "       [  -9.335763 ,   37.36898  ,  169.78474  , ...,   94.270195 ,\n",
       "          27.01838  ,    8.4801   ]], dtype=float32)"
      ]
     },
     "execution_count": 19,
     "metadata": {},
     "output_type": "execute_result"
    }
   ],
   "source": [
    "%%time\n",
    "tl_compiled.predict(X_test)"
   ]
  },
  {
   "cell_type": "markdown",
   "metadata": {},
   "source": [
    "Compiled model could also be saved, but note - instanse will save only the metadata. After loading, it expect to find compiled library path stay the same. Otherwise, you can update the library path via .set_libpath method"
   ]
  },
  {
   "cell_type": "code",
   "execution_count": 20,
   "metadata": {},
   "outputs": [
    {
     "name": "stdout",
     "output_type": "stream",
     "text": [
      "CPU times: user 441 ms, sys: 1.27 s, total: 1.71 s\n",
      "Wall time: 732 ms\n"
     ]
    }
   ],
   "source": [
    "%%time\n",
    "tl_compiled.dump('../data/tl_compiled.pkl')\n",
    "tl_compiled = TLCompiledPredictor.load('../data/tl_compiled.pkl')\n",
    "# optional - if libpath changed or if you want to change nthreads\n",
    "tl_compiled.set_libpath(nthread=1)"
   ]
  },
  {
   "cell_type": "code",
   "execution_count": 21,
   "metadata": {},
   "outputs": [
    {
     "name": "stdout",
     "output_type": "stream",
     "text": [
      "CPU times: user 6.5 s, sys: 3.48 ms, total: 6.5 s\n",
      "Wall time: 6.49 s\n"
     ]
    },
    {
     "data": {
      "text/plain": [
       "array([[-223.87384  , -135.502    , -265.80447  , ..., -129.46922  ,\n",
       "        -205.92975  , -221.22443  ],\n",
       "       [-105.44452  , -102.70257  ,  -46.391895 , ..., -119.1074   ,\n",
       "        -103.06445  ,   -8.659153 ],\n",
       "       [ -44.662804 ,  -64.4949   ,  139.20688  , ...,   14.63566  ,\n",
       "         -27.567184 , -215.73254  ],\n",
       "       ...,\n",
       "       [ -88.67466  ,  126.86047  ,   77.65633  , ...,  221.90108  ,\n",
       "          27.670267 ,    5.021043 ],\n",
       "       [  -5.0258074,  140.92477  ,  243.93553  , ...,  150.28697  ,\n",
       "         173.0748   ,  206.62964  ],\n",
       "       [  -9.335763 ,   37.36898  ,  169.78474  , ...,   94.270195 ,\n",
       "          27.01838  ,    8.4801   ]], dtype=float32)"
      ]
     },
     "execution_count": 21,
     "metadata": {},
     "output_type": "execute_result"
    }
   ],
   "source": [
    "%%time\n",
    "tl_compiled.predict(X_test)"
   ]
  },
  {
   "cell_type": "markdown",
   "metadata": {},
   "source": [
    "### Cross Validation\n",
    "\n",
    "Also py_boost supports built in cross validation wrapper that produce out-of-fold prediction"
   ]
  },
  {
   "cell_type": "code",
   "execution_count": 22,
   "metadata": {},
   "outputs": [
    {
     "name": "stdout",
     "output_type": "stream",
     "text": [
      "[16:09:45] Stdout logging level is INFO.\n",
      "[16:09:45] GDBT train starts. Max iter 100, early stopping rounds 100\n",
      "[16:09:45] Iter 0; Sample 0, rmse = 175.61429211372365; \n",
      "[16:09:45] Iter 10; Sample 0, rmse = 144.7971654806504; \n",
      "[16:09:45] Iter 20; Sample 0, rmse = 122.99271744910226; \n",
      "[16:09:46] Iter 30; Sample 0, rmse = 106.4159816075694; \n",
      "[16:09:46] Iter 40; Sample 0, rmse = 93.21293236506831; \n",
      "[16:09:46] Iter 50; Sample 0, rmse = 82.41181507620963; \n",
      "[16:09:46] Iter 60; Sample 0, rmse = 73.33020428706712; \n",
      "[16:09:46] Iter 70; Sample 0, rmse = 65.59096934329497; \n",
      "[16:09:47] Iter 80; Sample 0, rmse = 58.97445734858388; \n",
      "[16:09:47] Iter 90; Sample 0, rmse = 53.305058355844025; \n",
      "[16:09:47] Iter 99; Sample 0, rmse = 48.81809291377473; \n",
      "[16:09:47] Stdout logging level is INFO.\n",
      "[16:09:47] GDBT train starts. Max iter 100, early stopping rounds 100\n",
      "[16:09:47] Iter 0; Sample 0, rmse = 177.1335485003128; \n",
      "[16:09:47] Iter 10; Sample 0, rmse = 145.70845025808; \n",
      "[16:09:48] Iter 20; Sample 0, rmse = 123.57532151819986; \n",
      "[16:09:48] Iter 30; Sample 0, rmse = 106.86633283553674; \n",
      "[16:09:48] Iter 40; Sample 0, rmse = 93.65094031261732; \n",
      "[16:09:48] Iter 50; Sample 0, rmse = 82.7499599888204; \n",
      "[16:09:48] Iter 60; Sample 0, rmse = 73.56814940567506; \n",
      "[16:09:49] Iter 70; Sample 0, rmse = 65.75796526092563; \n",
      "[16:09:49] Iter 80; Sample 0, rmse = 59.00559735747677; \n",
      "[16:09:49] Iter 90; Sample 0, rmse = 53.22913195836159; \n",
      "[16:09:49] Iter 99; Sample 0, rmse = 48.755025108594694; \n",
      "[16:09:49] Stdout logging level is INFO.\n",
      "[16:09:49] GDBT train starts. Max iter 100, early stopping rounds 100\n",
      "[16:09:49] Iter 0; Sample 0, rmse = 175.27225326703729; \n",
      "[16:09:49] Iter 10; Sample 0, rmse = 144.05029572442413; \n",
      "[16:09:50] Iter 20; Sample 0, rmse = 122.3314154426443; \n",
      "[16:09:50] Iter 30; Sample 0, rmse = 105.88654494126378; \n",
      "[16:09:50] Iter 40; Sample 0, rmse = 92.796603926536; \n",
      "[16:09:50] Iter 50; Sample 0, rmse = 81.93787567385935; \n",
      "[16:09:51] Iter 60; Sample 0, rmse = 72.8261487855304; \n",
      "[16:09:51] Iter 70; Sample 0, rmse = 65.08733037753358; \n",
      "[16:09:51] Iter 80; Sample 0, rmse = 58.44629137610014; \n",
      "[16:09:51] Iter 90; Sample 0, rmse = 52.76345313943353; \n",
      "[16:09:51] Iter 99; Sample 0, rmse = 48.33313940125674; \n",
      "[16:09:51] Stdout logging level is INFO.\n",
      "[16:09:51] GDBT train starts. Max iter 100, early stopping rounds 100\n",
      "[16:09:51] Iter 0; Sample 0, rmse = 175.9803714063319; \n",
      "[16:09:52] Iter 10; Sample 0, rmse = 144.61444229346438; \n",
      "[16:09:52] Iter 20; Sample 0, rmse = 122.6596096188111; \n",
      "[16:09:52] Iter 30; Sample 0, rmse = 106.11671137997341; \n",
      "[16:09:52] Iter 40; Sample 0, rmse = 93.13214099637096; \n",
      "[16:09:52] Iter 50; Sample 0, rmse = 82.28792063380403; \n",
      "[16:09:53] Iter 60; Sample 0, rmse = 73.18936658215529; \n",
      "[16:09:53] Iter 70; Sample 0, rmse = 65.43256658707351; \n",
      "[16:09:53] Iter 80; Sample 0, rmse = 58.77883025217497; \n",
      "[16:09:53] Iter 90; Sample 0, rmse = 53.078452746275644; \n",
      "[16:09:54] Iter 99; Sample 0, rmse = 48.642266311242814; \n",
      "[16:09:54] Stdout logging level is INFO.\n",
      "[16:09:54] GDBT train starts. Max iter 100, early stopping rounds 100\n",
      "[16:09:54] Iter 0; Sample 0, rmse = 176.16135924830536; \n",
      "[16:09:54] Iter 10; Sample 0, rmse = 145.07320332520484; \n",
      "[16:09:54] Iter 20; Sample 0, rmse = 123.28519868458953; \n",
      "[16:09:54] Iter 30; Sample 0, rmse = 106.8462165183503; \n",
      "[16:09:54] Iter 40; Sample 0, rmse = 93.7669692166164; \n",
      "[16:09:55] Iter 50; Sample 0, rmse = 83.01389242457317; \n",
      "[16:09:55] Iter 60; Sample 0, rmse = 73.85466208249018; \n",
      "[16:09:55] Iter 70; Sample 0, rmse = 66.03842633462484; \n",
      "[16:09:55] Iter 80; Sample 0, rmse = 59.35722101120086; \n",
      "[16:09:55] Iter 90; Sample 0, rmse = 53.5713983772304; \n",
      "[16:09:56] Iter 99; Sample 0, rmse = 49.158636747822115; \n",
      "CPU times: user 12.8 s, sys: 165 ms, total: 13 s\n",
      "Wall time: 11.2 s\n"
     ]
    },
    {
     "data": {
      "text/plain": [
       "47.35542441585655"
      ]
     },
     "execution_count": 22,
     "metadata": {},
     "output_type": "execute_result"
    }
   ],
   "source": [
    "%%time\n",
    "model = GradientBoosting('mse')\n",
    "cv = CrossValidation(model)\n",
    "\n",
    "oof_pred = cv.fit_predict(X, y, cv=5)\n",
    "\n",
    "pred = cv.predict(X_test)\n",
    "((pred - y_test) ** 2).mean() ** .5"
   ]
  }
 ],
 "metadata": {
  "kernelspec": {
   "display_name": "rapids-env",
   "language": "python",
   "name": "rapids-env"
  },
  "language_info": {
   "codemirror_mode": {
    "name": "ipython",
    "version": 3
   },
   "file_extension": ".py",
   "mimetype": "text/x-python",
   "name": "python",
   "nbconvert_exporter": "python",
   "pygments_lexer": "ipython3",
   "version": "3.10.14"
  }
 },
 "nbformat": 4,
 "nbformat_minor": 2
}
